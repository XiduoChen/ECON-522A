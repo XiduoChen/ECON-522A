{
 "cells": [
  {
   "cell_type": "code",
   "execution_count": 82,
   "metadata": {},
   "outputs": [],
   "source": [
    "import numpy as np\n",
    "import matplotlib.pyplot as plt\n",
    "from scipy.stats import norm\n",
    "from scipy.stats import multivariate_normal\n",
    "from numba import njit\n",
    "\n",
    "from IPython.display import Latex"
   ]
  },
  {
   "cell_type": "code",
   "execution_count": 2,
   "metadata": {},
   "outputs": [],
   "source": [
    "%matplotlib inline"
   ]
  },
  {
   "cell_type": "code",
   "execution_count": 7,
   "metadata": {},
   "outputs": [],
   "source": [
    "np.random.seed(1234)"
   ]
  },
  {
   "cell_type": "code",
   "execution_count": 30,
   "metadata": {},
   "outputs": [],
   "source": [
    "N = 1000\n",
    "ρ = 0.5"
   ]
  },
  {
   "cell_type": "code",
   "execution_count": 46,
   "metadata": {},
   "outputs": [],
   "source": [
    "def data_generate(N, ρ):\n",
    "    \n",
    "    mean = [0., 0.]\n",
    "    cov = [[1, ρ], [ρ, 1]]\n",
    "    rvs = multivariate_normal(mean=mean, cov=cov).rvs(N)\n",
    "    x_star = rvs[:, 0]\n",
    "    z = rvs[:, 1]\n",
    "    \n",
    "    u = np.random.normal(size=N)\n",
    "    v = np.random.normal(size=N)\n",
    "    v2 = np.random.normal(size=N)\n",
    "    \n",
    "    y = 1 + x_star + z + u\n",
    "    x = x_star + v\n",
    "    x2 = x_star + v2\n",
    "\n",
    "    return y, x, z, x2"
   ]
  },
  {
   "cell_type": "code",
   "execution_count": 47,
   "metadata": {},
   "outputs": [],
   "source": [
    "y, x, z, x2 = data_generate(N, ρ)"
   ]
  },
  {
   "cell_type": "code",
   "execution_count": 48,
   "metadata": {},
   "outputs": [
    {
     "data": {
      "text/plain": [
       "array([[1.9712582 , 0.4519142 ],\n",
       "       [0.4519142 , 0.96006528]])"
      ]
     },
     "execution_count": 48,
     "metadata": {},
     "output_type": "execute_result"
    }
   ],
   "source": [
    "np.cov(x, z)"
   ]
  },
  {
   "cell_type": "code",
   "execution_count": 114,
   "metadata": {},
   "outputs": [],
   "source": [
    "@njit\n",
    "def OLS(y, x, z):\n",
    "    \n",
    "    N = len(y)\n",
    "    \n",
    "    X = np.empty((N, 3))\n",
    "    X[:, 0] = 1\n",
    "    X[:, 1] = x\n",
    "    X[:, 2] = z\n",
    "    \n",
    "    est = np.linalg.inv(X.T @ X) @ (X.T @ y)\n",
    "    \n",
    "    return est"
   ]
  },
  {
   "cell_type": "code",
   "execution_count": 115,
   "metadata": {},
   "outputs": [
    {
     "data": {
      "text/plain": [
       "array([0.95136803, 0.44548157, 1.31679712])"
      ]
     },
     "execution_count": 115,
     "metadata": {},
     "output_type": "execute_result"
    }
   ],
   "source": [
    "OLS(y, x, z)"
   ]
  },
  {
   "cell_type": "markdown",
   "metadata": {},
   "source": [
    "(c)"
   ]
  },
  {
   "cell_type": "code",
   "execution_count": 116,
   "metadata": {},
   "outputs": [],
   "source": [
    "@njit\n",
    "def IV(y, x, z, x2):\n",
    "    \n",
    "    N = len(y)\n",
    "    \n",
    "    X = np.empty((N, 3))\n",
    "    X[:, 0] = 1\n",
    "    X[:, 1] = x\n",
    "    X[:, 2] = z\n",
    "    \n",
    "    Z = np.empty((N, 3))\n",
    "    Z[:, 0] = 1\n",
    "    Z[:, 1] = x2\n",
    "    Z[:, 2] = z\n",
    "    \n",
    "    estIV = np.linalg.inv(Z.T @ X) @ (Z.T @ y)\n",
    "    \n",
    "    return estIV"
   ]
  },
  {
   "cell_type": "code",
   "execution_count": 117,
   "metadata": {},
   "outputs": [
    {
     "data": {
      "text/plain": [
       "array([0.94665203, 1.02502537, 0.98799803])"
      ]
     },
     "execution_count": 117,
     "metadata": {},
     "output_type": "execute_result"
    }
   ],
   "source": [
    "IV(y, x, z, x2)"
   ]
  },
  {
   "cell_type": "markdown",
   "metadata": {},
   "source": [
    "(d)"
   ]
  },
  {
   "cell_type": "code",
   "execution_count": 118,
   "metadata": {},
   "outputs": [],
   "source": [
    "n_run = 10000\n",
    "estIV_sim = np.empty((n_run, 3))\n",
    "\n",
    "for i in range(n_run):\n",
    "    y, x, z, x2 = data_generate(N, ρ)\n",
    "    estIV_sim[i, :] = IV(y, x, z, x2)"
   ]
  },
  {
   "cell_type": "code",
   "execution_count": 119,
   "metadata": {},
   "outputs": [
    {
     "data": {
      "text/plain": [
       "<matplotlib.legend.Legend at 0x1a267e0860>"
      ]
     },
     "execution_count": 119,
     "metadata": {},
     "output_type": "execute_result"
    },
    {
     "data": {
      "image/png": "[encoded data removed]",
      "text/plain": [
       "<Figure size 432x288 with 1 Axes>"
      ]
     },
     "metadata": {},
     "output_type": "display_data"
    }
   ],
   "source": [
    "for i, para in enumerate([\"α\", \"β\", \"γ\"]):\n",
    "    \n",
    "    plt.hist(estIV_sim[:, i], bins=20, alpha=0.5, label=para)\n",
    "    \n",
    "plt.legend()"
   ]
  },
  {
   "cell_type": "markdown",
   "metadata": {},
   "source": [
    "(e)"
   ]
  },
  {
   "cell_type": "code",
   "execution_count": 120,
   "metadata": {},
   "outputs": [],
   "source": [
    "@njit\n",
    "def two_SLS(y, x, z, x2):\n",
    "    \n",
    "    fs_est = OLS(x, x2, z)\n",
    "    x_fitted = fs_est[0] + fs_est[1] * x2 + fs_est[2] * z\n",
    "    \n",
    "    est = OLS(y, x_fitted, z)\n",
    "    \n",
    "    return est"
   ]
  },
  {
   "cell_type": "code",
   "execution_count": 121,
   "metadata": {},
   "outputs": [
    {
     "data": {
      "text/plain": [
       "array([1.03870512, 1.14053044, 1.00544753])"
      ]
     },
     "execution_count": 121,
     "metadata": {},
     "output_type": "execute_result"
    }
   ],
   "source": [
    "two_SLS(y, x, z, x2)"
   ]
  },
  {
   "cell_type": "code",
   "execution_count": 122,
   "metadata": {},
   "outputs": [
    {
     "data": {
      "text/plain": [
       "array([1.03870512, 1.14053044, 1.00544753])"
      ]
     },
     "execution_count": 122,
     "metadata": {},
     "output_type": "execute_result"
    }
   ],
   "source": [
    "IV(y, x, z, x2)"
   ]
  },
  {
   "cell_type": "code",
   "execution_count": null,
   "metadata": {},
   "outputs": [],
   "source": []
  }
 ],
 "metadata": {
  "kernelspec": {
   "display_name": "Python 3",
   "language": "python",
   "name": "python3"
  },
  "language_info": {
   "codemirror_mode": {
    "name": "ipython",
    "version": 3
   },
   "file_extension": ".py",
   "mimetype": "text/x-python",
   "name": "python",
   "nbconvert_exporter": "python",
   "pygments_lexer": "ipython3",
   "version": "3.6.5"
  }
 },
 "nbformat": 4,
 "nbformat_minor": 2
}
