{
 "cells": [
  {
   "cell_type": "code",
   "execution_count": 1,
   "metadata": {},
   "outputs": [],
   "source": [
    "import numpy as np\n",
    "import matplotlib.pyplot as plt"
   ]
  },
  {
   "cell_type": "code",
   "execution_count": 2,
   "metadata": {},
   "outputs": [],
   "source": [
    "%matplotlib inline"
   ]
  },
  {
   "cell_type": "code",
   "execution_count": 3,
   "metadata": {},
   "outputs": [],
   "source": [
    "np.random.seed(1234)\n",
    "N = 1000"
   ]
  },
  {
   "cell_type": "markdown",
   "metadata": {},
   "source": [
    "#### data generating"
   ]
  },
  {
   "cell_type": "markdown",
   "metadata": {},
   "source": [
    "The model:\n",
    "\n",
    "$$\n",
    "y_i = 1 + x_{1i} + x_{2i} + \\epsilon_i\n",
    "$$\n",
    "\n",
    "where $x_{1i}$, $x_{2i}$, $ε_i$ are mutually independent standard normal random variables."
   ]
  },
  {
   "cell_type": "code",
   "execution_count": 4,
   "metadata": {},
   "outputs": [],
   "source": [
    "# generating standard normal dist random numbers\n",
    "x1 = np.random.normal(size=N)\n",
    "x2 = np.random.normal(size=N)\n",
    "ε = np.random.normal(size=N)\n",
    "\n",
    "y = 1 + x1 + x2 + ε"
   ]
  },
  {
   "cell_type": "markdown",
   "metadata": {},
   "source": [
    "## do OLS regression manually"
   ]
  },
  {
   "cell_type": "code",
   "execution_count": 5,
   "metadata": {},
   "outputs": [],
   "source": [
    "X = np.empty((N, 3)) # N by 3 matrix\n",
    "X[:, 0] = 1 # consta_nt term\n",
    "X[:, 1] = x1 # fill with x1 values\n",
    "X[:, 2] = x2 # fill with x2 values"
   ]
  },
  {
   "cell_type": "code",
   "execution_count": 6,
   "metadata": {},
   "outputs": [
    {
     "data": {
      "text/plain": [
       "array([1.04229289, 1.03666859, 1.05311438])"
      ]
     },
     "execution_count": 6,
     "metadata": {},
     "output_type": "execute_result"
    }
   ],
   "source": [
    "β_hat = np.linalg.inv(X.T @ X) @ (X.T @ y)\n",
    "β_hat"
   ]
  },
  {
   "cell_type": "code",
   "execution_count": 7,
   "metadata": {},
   "outputs": [],
   "source": [
    "ϵ_hat = y - X @ β_hat"
   ]
  },
  {
   "cell_type": "markdown",
   "metadata": {},
   "source": [
    "## (a) t-statistics"
   ]
  },
  {
   "cell_type": "markdown",
   "metadata": {},
   "source": [
    "$$\n",
    "\\hat{\\sigma}^2 = \\frac{\\sum_{i=1}^{N} \\hat{\\epsilon_i}^2}{N-K}\n",
    "$$\n",
    "\n",
    "where $N=1000$ and $K=3$ in this case.\n",
    "\n",
    "$$\n",
    "Var(\\hat{\\beta} \\mid X) = \\hat{\\sigma} ^ 2 (X^\\prime X) ^ {-1}\n",
    "$$"
   ]
  },
  {
   "cell_type": "code",
   "execution_count": 8,
   "metadata": {},
   "outputs": [],
   "source": [
    "σ_hat = np.sqrt((ϵ_hat ** 2).sum() / (N - 3))"
   ]
  },
  {
   "cell_type": "code",
   "execution_count": 9,
   "metadata": {},
   "outputs": [
    {
     "data": {
      "text/plain": [
       "0.9910191890886281"
      ]
     },
     "execution_count": 9,
     "metadata": {},
     "output_type": "execute_result"
    }
   ],
   "source": [
    "σ_hat"
   ]
  },
  {
   "cell_type": "code",
   "execution_count": 10,
   "metadata": {},
   "outputs": [],
   "source": [
    "# auxiliary residuals of regressing X1 on constant and X2\n",
    "γ_hat = np.linalg.inv(X[:, [0, 2]].T @ X[:, [0, 2]]) @ (X[:, [0, 2]].T @ x1)\n",
    "ν1_hat = x1 - X[:, [0, 2]] @ γ_hat"
   ]
  },
  {
   "cell_type": "code",
   "execution_count": 22,
   "metadata": {},
   "outputs": [],
   "source": [
    "denominator = np.sqrt(σ_hat ** 2 / (ν1_hat.T @ ν1_hat))"
   ]
  },
  {
   "cell_type": "code",
   "execution_count": 23,
   "metadata": {},
   "outputs": [],
   "source": [
    "numerator = β_hat[1] - 0"
   ]
  },
  {
   "cell_type": "code",
   "execution_count": 24,
   "metadata": {},
   "outputs": [
    {
     "data": {
      "text/plain": [
       "32.18682240599345"
      ]
     },
     "execution_count": 24,
     "metadata": {},
     "output_type": "execute_result"
    }
   ],
   "source": [
    "numerator / denominator "
   ]
  },
  {
   "cell_type": "code",
   "execution_count": 14,
   "metadata": {},
   "outputs": [
    {
     "data": {
      "text/plain": [
       "array([0.03133878, 0.032202  , 0.03159306])"
      ]
     },
     "execution_count": 14,
     "metadata": {},
     "output_type": "execute_result"
    }
   ],
   "source": [
    "np.sqrt(np.diag(σ_hat ** 2 / (X.T @ X)))"
   ]
  },
  {
   "cell_type": "markdown",
   "metadata": {},
   "source": [
    "## (b) F-statistics"
   ]
  },
  {
   "cell_type": "markdown",
   "metadata": {},
   "source": [
    "$H_0$:\n",
    "\n",
    "$$\n",
    "C \\hat{\\beta} = 0\n",
    "$$\n",
    "\n",
    "where $C=[0 \\ I_2]$."
   ]
  },
  {
   "cell_type": "markdown",
   "metadata": {},
   "source": [
    "Wald test:\n",
    "\n",
    "$$\n",
    "\\frac{(C\\hat{\\beta}-0)^\\prime[C(X^\\prime X)^{-1}C^\\prime]^{-1}(C\\hat{\\beta}-0)/r}{\\hat{U}^\\prime\\hat{U}/(N-K)} \\sim F(r, N-K)\n",
    "$$\n",
    "\n",
    "where $r=2$."
   ]
  },
  {
   "cell_type": "code",
   "execution_count": 15,
   "metadata": {},
   "outputs": [],
   "source": [
    "denominator = (ϵ_hat @ ϵ_hat) / (N - 3)"
   ]
  },
  {
   "cell_type": "code",
   "execution_count": 16,
   "metadata": {},
   "outputs": [],
   "source": [
    "C = np.zeros((2, 3))\n",
    "C[:, 1:] = np.eye(2)\n",
    "numerator = (C @ β_hat).T @ np.linalg.inv(C @ np.linalg.inv(X.T @ X) @ C.T) @ (C @ β_hat) / 2"
   ]
  },
  {
   "cell_type": "code",
   "execution_count": 17,
   "metadata": {},
   "outputs": [
    {
     "data": {
      "text/plain": [
       "1083.4621643692135"
      ]
     },
     "execution_count": 17,
     "metadata": {},
     "output_type": "execute_result"
    }
   ],
   "source": [
    "F = numerator / denominator\n",
    "F"
   ]
  },
  {
   "cell_type": "markdown",
   "metadata": {},
   "source": [
    "# Using Statsmodels"
   ]
  },
  {
   "cell_type": "code",
   "execution_count": 18,
   "metadata": {},
   "outputs": [],
   "source": [
    "import statsmodels.api as sm"
   ]
  },
  {
   "cell_type": "code",
   "execution_count": 19,
   "metadata": {},
   "outputs": [
    {
     "name": "stdout",
     "output_type": "stream",
     "text": [
      "                            OLS Regression Results                            \n",
      "==============================================================================\n",
      "Dep. Variable:                      y   R-squared:                       0.685\n",
      "Model:                            OLS   Adj. R-squared:                  0.684\n",
      "Method:                 Least Squares   F-statistic:                     1083.\n",
      "Date:                Sun, 03 Feb 2019   Prob (F-statistic):          9.70e-251\n",
      "Time:                        14:01:42   Log-Likelihood:                -1408.4\n",
      "No. Observations:                1000   AIC:                             2823.\n",
      "Df Residuals:                     997   BIC:                             2838.\n",
      "Df Model:                           2                                         \n",
      "Covariance Type:            nonrobust                                         \n",
      "==============================================================================\n",
      "                 coef    std err          t      P>|t|      [0.025      0.975]\n",
      "------------------------------------------------------------------------------\n",
      "const          1.0423      0.031     33.225      0.000       0.981       1.104\n",
      "x1             1.0367      0.032     32.187      0.000       0.973       1.100\n",
      "x2             1.0531      0.032     33.302      0.000       0.991       1.115\n",
      "==============================================================================\n",
      "Omnibus:                        0.503   Durbin-Watson:                   1.870\n",
      "Prob(Omnibus):                  0.778   Jarque-Bera (JB):                0.591\n",
      "Skew:                          -0.027   Prob(JB):                        0.744\n",
      "Kurtosis:                       2.893   Cond. No.                         1.05\n",
      "==============================================================================\n",
      "\n",
      "Warnings:\n",
      "[1] Standard Errors assume that the covariance matrix of the errors is correctly specified.\n"
     ]
    }
   ],
   "source": [
    "results = sm.OLS(y, X).fit()\n",
    "print(results.summary())"
   ]
  },
  {
   "cell_type": "code",
   "execution_count": 25,
   "metadata": {},
   "outputs": [
    {
     "data": {
      "text/plain": [
       "array([[32.18682241]])"
      ]
     },
     "execution_count": 25,
     "metadata": {},
     "output_type": "execute_result"
    }
   ],
   "source": [
    "# t-test\n",
    "results.t_test([0., 1., 0.]).statistic"
   ]
  },
  {
   "cell_type": "code",
   "execution_count": 21,
   "metadata": {},
   "outputs": [
    {
     "data": {
      "text/plain": [
       "<class 'statsmodels.stats.contrast.ContrastResults'>\n",
       "<F test: F=array([[1083.46216437]]), p=9.701336398738257e-251, df_denom=997, df_num=2>"
      ]
     },
     "execution_count": 21,
     "metadata": {},
     "output_type": "execute_result"
    }
   ],
   "source": [
    "# F-test\n",
    "results.f_test(C)"
   ]
  },
  {
   "cell_type": "code",
   "execution_count": null,
   "metadata": {},
   "outputs": [],
   "source": []
  }
 ],
 "metadata": {
  "kernelspec": {
   "display_name": "Python 3",
   "language": "python",
   "name": "python3"
  },
  "language_info": {
   "codemirror_mode": {
    "name": "ipython",
    "version": 3
   },
   "file_extension": ".py",
   "mimetype": "text/x-python",
   "name": "python",
   "nbconvert_exporter": "python",
   "pygments_lexer": "ipython3",
   "version": "3.6.5"
  }
 },
 "nbformat": 4,
 "nbformat_minor": 2
}
