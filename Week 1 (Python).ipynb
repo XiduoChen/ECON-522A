{
 "cells": [
  {
   "cell_type": "markdown",
   "metadata": {},
   "source": [
    "# Econometrics Programming Language"
   ]
  },
  {
   "cell_type": "markdown",
   "metadata": {},
   "source": [
    "# R/Stata"
   ]
  },
  {
   "cell_type": "markdown",
   "metadata": {},
   "source": [
    "You can choose either R or Stata as your main language for this course. They are good to use because they have many canned econometrics packages. "
   ]
  },
  {
   "cell_type": "markdown",
   "metadata": {},
   "source": [
    "You can purchase a Stata software [here](https://www.stata.com). Stata is especially fast for standard econometrics routines, e.g. OLS, IV, Probit, etc., because these methods have been optimized by underlying binary codes. Writing your own methods using Stata would be a little bit annoying."
   ]
  },
  {
   "cell_type": "markdown",
   "metadata": {},
   "source": [
    "R is famous for its up-to-date econometrics packages (it is said that every new statistics paper will be published with an R package), its powerful ploting package (ggplot), and after all, it is totally free. You can download and install R [here](https://www.r-project.org). If you decide to use R as your canned language, [RStudio](https://www.rstudio.com/products/rstudio/) would be *the IDE* that you want to use. "
   ]
  },
  {
   "cell_type": "markdown",
   "metadata": {},
   "source": [
    "## Python"
   ]
  },
  {
   "cell_type": "markdown",
   "metadata": {},
   "source": [
    "We use Python as our script language. Python is a very flexible and easy-to-read language. If you want to use Python in this course and future econometrics research, you should have a look at the scientific calculation packages: NumPy, SciPy, Pandas, and StatsModels. [Anaconda](https://www.anaconda.com) is a Python Data Science Platform that has wrapped most of the useful packages. It makes things simple to just install anaconda, than building Python environment by yourself.\n",
    "\n",
    "*Important*: Do install Python 3.x, *NOT* Python 2.7."
   ]
  },
  {
   "cell_type": "markdown",
   "metadata": {},
   "source": [
    "# Estimating Conditional Average Treatment Effect"
   ]
  },
  {
   "cell_type": "code",
   "execution_count": 1,
   "metadata": {},
   "outputs": [],
   "source": [
    "import numpy as np\n",
    "import matplotlib.pyplot as plt"
   ]
  },
  {
   "cell_type": "code",
   "execution_count": 2,
   "metadata": {},
   "outputs": [],
   "source": [
    "%matplotlib inline"
   ]
  },
  {
   "cell_type": "markdown",
   "metadata": {},
   "source": [
    "Assume the outcome random variable $Y$ has the functional form \n",
    "\n",
    "$$Y(X_1, X_2, \\omega) = 0.1 X_1 + 0.2 X_2 - \\omega,$$\n",
    "and we want to get the conditional average treatment effect from $X_1$ being $x_1$ to $x_1^\\prime$ given $X_2 = x_2$, which is\n",
    "\n",
    "$$\n",
    "E \\left [Y(x_1, X_2, \\omega) - Y(x_1 ^ \\prime, X_2, \\omega) \\mid X_2 = x_2 \\right ] = \n",
    "E \\left [Y(x_1, X_2, \\omega) \\mid X_2 = x_2 \\right ] - \\left [Y(x_1 ^ \\prime, X_2, \\omega) \\mid X_2 = x_2 \\right ]\n",
    "$$"
   ]
  },
  {
   "cell_type": "markdown",
   "metadata": {},
   "source": [
    "Let us consider a special case where $X_1$, $X_2$, and $w_1$ are all discrete random variables. (If they are continuous variables, then we have to use some techinques rather than just using conditional means to get the ATE, e.g. kernel density regression)."
   ]
  },
  {
   "cell_type": "markdown",
   "metadata": {},
   "source": [
    "$$\n",
    "\\Pr (X_1 = 1) = 0.4, \\Pr (X_1 = 2) = 0.6 \\\\\n",
    "\\Pr (X_2 = 0) = \\Pr (X_2 = 1) = 0.5 \\\\\n",
    "\\omega = X_1 ^ 2 + c, \\Pr (c = -1) = \\Pr (c = 1) = 0.5\n",
    "$$"
   ]
  },
  {
   "cell_type": "markdown",
   "metadata": {},
   "source": [
    "Here, we assume $X_2$ is independent random variable with both $X_1$ and $\\omega$ for simplicity. You could try the case with $X_2$ being correlated with $X_1$ and $\\omega$, and the conclusion should be unaffected."
   ]
  },
  {
   "cell_type": "markdown",
   "metadata": {},
   "source": [
    "Knowing the functional form of $Y(X_1, X_2, \\omega)$, we know the ATE of changing $X_1$ from $x_1 = 1$ to $x_1^\\prime = 2$ is $0.1$ given any $X_2$. "
   ]
  },
  {
   "cell_type": "markdown",
   "metadata": {},
   "source": [
    "### data generating"
   ]
  },
  {
   "cell_type": "code",
   "execution_count": 3,
   "metadata": {},
   "outputs": [],
   "source": [
    "# set seed\n",
    "np.random.seed(1234)\n",
    "\n",
    "N = 1000000 # sample size\n",
    "\n",
    "# X1\n",
    "X1 = np.ones(N, dtype=np.int)\n",
    "X1[np.random.random(N) > 0.4] = 2\n",
    "\n",
    "# X2\n",
    "X2 = np.ones(N, dtype=np.int)\n",
    "X2[np.random.random(N) > 0.5] = 0\n",
    "\n",
    "# ω\n",
    "c = np.ones(N, dtype=np.int)\n",
    "c[np.random.random(N) > 0.5] = -1\n",
    "ω = X1**2 + c"
   ]
  },
  {
   "cell_type": "code",
   "execution_count": 4,
   "metadata": {},
   "outputs": [],
   "source": [
    "# Y\n",
    "Y = 0.1 * X1 + 0.2 * X2 - ω"
   ]
  },
  {
   "cell_type": "code",
   "execution_count": 5,
   "metadata": {},
   "outputs": [],
   "source": [
    "x1, x1_prime = 1, 2\n",
    "x2 = 1"
   ]
  },
  {
   "cell_type": "markdown",
   "metadata": {},
   "source": [
    "$E[Y(X_1,X_2,ω)∣X_1 = x_1,X_2 = x_2]$"
   ]
  },
  {
   "cell_type": "code",
   "execution_count": 6,
   "metadata": {},
   "outputs": [
    {
     "data": {
      "text/plain": [
       "-0.6994701430613732"
      ]
     },
     "execution_count": 6,
     "metadata": {},
     "output_type": "execute_result"
    }
   ],
   "source": [
    "mean1 = np.mean(Y[(X1 == x1) & (X2 == x2)])\n",
    "mean1"
   ]
  },
  {
   "cell_type": "markdown",
   "metadata": {},
   "source": [
    "(Because $E[Y(1,2,1^2+c)∣X_1 = 1,X_2 = 2] = 0.1 + 0.2 - 1 - E[c∣X_1 = 1,X_2 = 2] = -0.7.$)"
   ]
  },
  {
   "cell_type": "markdown",
   "metadata": {},
   "source": [
    "$E[Y(X_1,X_2,ω)∣X_1 = x_1^\\prime,X_2 = x_2]$"
   ]
  },
  {
   "cell_type": "code",
   "execution_count": 7,
   "metadata": {},
   "outputs": [
    {
     "data": {
      "text/plain": [
       "-3.600773302401235"
      ]
     },
     "execution_count": 7,
     "metadata": {},
     "output_type": "execute_result"
    }
   ],
   "source": [
    "mean2 = np.mean(Y[(X1 == x1_prime) & (X2 == x2)])\n",
    "mean2"
   ]
  },
  {
   "cell_type": "markdown",
   "metadata": {},
   "source": [
    "(Because $E[Y(1,2,2^2+c)∣X_1 = 2,X_2 = 2] = 0.2 + 0.2 - 4 - E[c∣X_1 = 1,X_2 = 2] = -3.6.$)"
   ]
  },
  {
   "cell_type": "code",
   "execution_count": 8,
   "metadata": {},
   "outputs": [
    {
     "data": {
      "text/plain": [
       "-2.9013031593398617"
      ]
     },
     "execution_count": 8,
     "metadata": {},
     "output_type": "execute_result"
    }
   ],
   "source": [
    "mean2 - mean1"
   ]
  },
  {
   "cell_type": "markdown",
   "metadata": {},
   "source": [
    "The reason is because by conditioning on $X_1$, we are partitioning the sample into different groups. The distribution of $ω$ is changed."
   ]
  },
  {
   "cell_type": "code",
   "execution_count": 9,
   "metadata": {},
   "outputs": [
    {
     "data": {
      "image/png": "[encoded data removed]",
      "text/plain": [
       "<Figure size 1080x288 with 3 Axes>"
      ]
     },
     "metadata": {},
     "output_type": "display_data"
    }
   ],
   "source": [
    "plt.figure(figsize = (15, 4))\n",
    "ωs = [ω[X2 == x2], ω[(X1 == x1) & (X2 == x2)], ω[(X1 == x1_prime) & (X2 == x2)]]\n",
    "bins = np.linspace(0., 5., 10)\n",
    "for i, ω_plot in enumerate(ωs):\n",
    "    plt.subplot(1, 3, i+1)\n",
    "    plt.hist(ω_plot, bins=bins, density=True)\n",
    "    plt.ylim([0, 1])\n",
    "    plt.xlabel(\"ω\")\n",
    "    plt.ylabel(\"Pr(ω)\")"
   ]
  },
  {
   "cell_type": "markdown",
   "metadata": {},
   "source": [
    "The conditional average treatment effect is not recovered."
   ]
  },
  {
   "cell_type": "markdown",
   "metadata": {},
   "source": [
    "Now let's assume $X_1$ and $ω$ are independent given $X_2$: we change the distribution of ω to be\n",
    "\n",
    "$$\n",
    "\\Pr(ω=0) = \\Pr(ω=2) = 0.2 \\\\\n",
    "\\Pr(ω=3) = \\Pr(ω=5) = 0.3\n",
    "$$\n",
    "\n",
    "so that the marginal distribution of $ω$ keeps the same."
   ]
  },
  {
   "cell_type": "code",
   "execution_count": 10,
   "metadata": {},
   "outputs": [],
   "source": [
    "prob = np.random.random(N)\n",
    "ω = np.zeros(N, dtype=np.int)\n",
    "ω[(prob > 0.2) & (prob <= 0.4)] = 2\n",
    "ω[(prob > 0.4) & (prob <= 0.7)] = 3\n",
    "ω[prob > 0.7] = 5\n",
    "\n",
    "Y = 0.1 * X1 + 0.2 * X2 - ω"
   ]
  },
  {
   "cell_type": "code",
   "execution_count": 11,
   "metadata": {},
   "outputs": [
    {
     "data": {
      "text/plain": [
       "-2.4981095104321844"
      ]
     },
     "execution_count": 11,
     "metadata": {},
     "output_type": "execute_result"
    }
   ],
   "source": [
    "mean1 = np.mean(Y[(X1 == x1) & (X2 == x2)])\n",
    "mean1"
   ]
  },
  {
   "cell_type": "code",
   "execution_count": 12,
   "metadata": {},
   "outputs": [
    {
     "data": {
      "text/plain": [
       "-2.4010812900817293"
      ]
     },
     "execution_count": 12,
     "metadata": {},
     "output_type": "execute_result"
    }
   ],
   "source": [
    "mean2 = np.mean(Y[(X1 == x1_prime) & (X2 == x2)])\n",
    "mean2"
   ]
  },
  {
   "cell_type": "code",
   "execution_count": 13,
   "metadata": {},
   "outputs": [
    {
     "data": {
      "text/plain": [
       "0.09702822035045511"
      ]
     },
     "execution_count": 13,
     "metadata": {},
     "output_type": "execute_result"
    }
   ],
   "source": [
    "mean2 - mean1"
   ]
  },
  {
   "cell_type": "markdown",
   "metadata": {},
   "source": [
    "The conditional ATE is recovered."
   ]
  },
  {
   "cell_type": "markdown",
   "metadata": {},
   "source": [
    "The distribution of $ω$ is unchanged by conditioning on $X_1$, because the conditional independence assumption holds now."
   ]
  },
  {
   "cell_type": "code",
   "execution_count": 14,
   "metadata": {},
   "outputs": [
    {
     "data": {
      "image/png": "[encoded data removed]",
      "text/plain": [
       "<Figure size 1080x288 with 3 Axes>"
      ]
     },
     "metadata": {},
     "output_type": "display_data"
    }
   ],
   "source": [
    "plt.figure(figsize = (15, 4))\n",
    "ωs = [ω[X2 == x2], ω[(X1 == x1) & (X2 == x2)], ω[(X1 == x1_prime) & (X2 == x2)]]\n",
    "bins = np.linspace(0., 5., 10)\n",
    "for i, ω_plot in enumerate(ωs):\n",
    "    plt.subplot(1, 3, i+1)\n",
    "    plt.hist(ω_plot, bins=bins, density=True)\n",
    "    plt.ylim([0, 1])\n",
    "    plt.xlabel(\"ω\")\n",
    "    plt.ylabel(\"Pr(ω)\")"
   ]
  },
  {
   "cell_type": "code",
   "execution_count": null,
   "metadata": {},
   "outputs": [],
   "source": []
  }
 ],
 "metadata": {
  "kernelspec": {
   "display_name": "Python 3",
   "language": "python",
   "name": "python3"
  },
  "language_info": {
   "codemirror_mode": {
    "name": "ipython",
    "version": 3
   },
   "file_extension": ".py",
   "mimetype": "text/x-python",
   "name": "python",
   "nbconvert_exporter": "python",
   "pygments_lexer": "ipython3",
   "version": "3.6.5"
  }
 },
 "nbformat": 4,
 "nbformat_minor": 2
}
